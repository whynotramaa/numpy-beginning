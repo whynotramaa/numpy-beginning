{
 "cells": [
  {
   "cell_type": "markdown",
   "id": "228039e2",
   "metadata": {},
   "source": [
    "##learning python with chai aur code"
   ]
  },
  {
   "cell_type": "code",
   "execution_count": 5,
   "id": "40068539",
   "metadata": {},
   "outputs": [
    {
     "name": "stdout",
     "output_type": "stream",
     "text": [
      "1D array:  [1 2 3 4 5 6]\n",
      "2D array:  [[1 2 3]\n",
      " [4 5 7]]\n"
     ]
    }
   ],
   "source": [
    "import numpy as np\n",
    "\n",
    "arr_1D = np.array([1,2,3,4,5,6,])\n",
    "print(\"1D array: \", arr_1D)\n",
    "\n",
    "arr_2D = np.array([[1,2,3], [4,5,7]])\n",
    "print(\"2D array: \", arr_2D)"
   ]
  },
  {
   "cell_type": "code",
   "execution_count": 6,
   "id": "4b38ce77",
   "metadata": {},
   "outputs": [
    {
     "name": "stdout",
     "output_type": "stream",
     "text": [
      "python list multiplication [1, 2, 3, 1, 2, 3]\n",
      "python array multiplication [2 4 6]\n"
     ]
    }
   ],
   "source": [
    "py_list = [1,2,3]\n",
    "print(\"python list multiplication\", py_list*2)\n",
    "\n",
    "np_arr = np.array([1,2,3])\n",
    "print(\"python array multiplication\", np_arr*2)"
   ]
  },
  {
   "cell_type": "code",
   "execution_count": 7,
   "id": "8782b234",
   "metadata": {},
   "outputs": [
    {
     "name": "stdout",
     "output_type": "stream",
     "text": [
      "\n",
      " Numpy operation time 0.010144472122192383\n"
     ]
    }
   ],
   "source": [
    "import time\n",
    "\n",
    "start = time.time()\n",
    "np_array = np.arange(1000000) *2\n",
    "print(\"\\n Numpy operation time\", time.time()-start)"
   ]
  },
  {
   "cell_type": "markdown",
   "id": "7837c526",
   "metadata": {},
   "source": [
    "## array operation is faster than list operation"
   ]
  },
  {
   "cell_type": "code",
   "execution_count": 10,
   "id": "c3a43729",
   "metadata": {},
   "outputs": [
    {
     "name": "stdout",
     "output_type": "stream",
     "text": [
      "\n",
      " array of ones \n",
      " [[1. 1. 1.]\n",
      " [1. 1. 1.]\n",
      " [1. 1. 1.]\n",
      " [1. 1. 1.]]\n",
      "\n",
      " array of constant \n",
      " [[7 7 7]\n",
      " [7 7 7]\n",
      " [7 7 7]]\n",
      "\n",
      " array of random \n",
      " [[7 7 7]\n",
      " [7 7 7]\n",
      " [7 7 7]]\n",
      "\n",
      " array of a sequence \n",
      " [0 2 4 6 8]\n"
     ]
    }
   ],
   "source": [
    "ones = np.ones((4,3))\n",
    "print(\"\\n array of ones \\n\", ones)\n",
    "\n",
    "full = np.full((3,3), 7)\n",
    "print(\"\\n array of constant \\n\", full)\n",
    "\n",
    "random = np.random.random((4,3))\n",
    "print(\"\\n array of random \\n\", full)\n",
    "\n",
    "sequence = np.arange(0,10,2)\n",
    "print(\"\\n array of a sequence \\n\", sequence)\n",
    "\n"
   ]
  },
  {
   "cell_type": "markdown",
   "id": "6e7f2f97",
   "metadata": {},
   "source": [
    "## Tensors and Vectors"
   ]
  },
  {
   "cell_type": "code",
   "execution_count": 11,
   "id": "2fb39fb2",
   "metadata": {},
   "outputs": [
    {
     "name": "stdout",
     "output_type": "stream",
     "text": [
      "\n",
      " Shape of array:  (2, 3)\n",
      "\n",
      " Dimension of array:  2\n",
      "\n",
      " Size of array:  6\n",
      "\n",
      " Data Type of array:  int64\n"
     ]
    }
   ],
   "source": [
    "arr = np.array([[1,2,3],\n",
    "                [4,5,6]])\n",
    "print(\"\\n Shape of array: \", arr.shape)\n",
    "print(\"\\n Dimension of array: \", arr.ndim)\n",
    "print(\"\\n Size of array: \", arr.size)\n",
    "print(\"\\n Data Type of array: \", arr.dtype)"
   ]
  },
  {
   "cell_type": "markdown",
   "id": "66a8ebba",
   "metadata": {},
   "source": [
    "### array reshaping"
   ]
  },
  {
   "cell_type": "code",
   "execution_count": 13,
   "id": "55c0728b",
   "metadata": {},
   "outputs": [
    {
     "name": "stdout",
     "output_type": "stream",
     "text": [
      "Original Array: \n",
      "  [ 0  1  2  3  4  5  6  7  8  9 10 11]\n",
      "Reshaped Array:\n",
      "  [[ 0  1  2  3]\n",
      " [ 4  5  6  7]\n",
      " [ 8  9 10 11]]\n",
      "Flattend Array: \n",
      " [ 0  1  2  3  4  5  6  7  8  9 10 11]\n",
      "Transposed Array:\n",
      "  [[ 0  4  8]\n",
      " [ 1  5  9]\n",
      " [ 2  6 10]\n",
      " [ 3  7 11]]\n"
     ]
    }
   ],
   "source": [
    "arrayyy = np.arange(12)\n",
    "print(\"Original Array: \\n \", arrayyy)\n",
    "\n",
    "reshaped = arrayyy.reshape((3,4))\n",
    "print(\"Reshaped Array:\\n \", reshaped)\n",
    "\n",
    "flattened = reshaped.flatten()\n",
    "print(\"Flattend Array: \\n\", flattened)\n",
    "\n",
    "#ravel and flattened outputs same thing but ravel returns view not copy\n",
    "\n",
    "transpose = reshaped.T\n",
    "print(\"Transposed Array:\\n \", transpose)\n"
   ]
  },
  {
   "cell_type": "markdown",
   "id": "22ac8591",
   "metadata": {},
   "source": [
    "## PHASE 2 \n",
    "### numpy array operations"
   ]
  },
  {
   "cell_type": "code",
   "execution_count": 16,
   "id": "6a040221",
   "metadata": {},
   "outputs": [
    {
     "name": "stdout",
     "output_type": "stream",
     "text": [
      "Basic Slicing [3, 4, 5, 6, 7]\n",
      "Stepwise Slicing [3, 5, 7]\n",
      "Negative Indexing  8\n",
      "what we have for 2D is:  [[1 2 3]\n",
      " [4 5 6]]\n",
      "Specific element 6\n",
      "Entire Row [4 5 6]\n",
      "Entire Column [2 5]\n"
     ]
    }
   ],
   "source": [
    "import numpy as np\n",
    "ar = [1,2,3,4,5,6,7,8,9,0]\n",
    "\n",
    "print(\"Basic Slicing\", ar[2:7])\n",
    "print(\"Stepwise Slicing\", ar[2:8:2])\n",
    "print(\"Negative Indexing \", ar[-3])\n",
    "\n",
    "print(\"what we have for 2D is: \", arr)\n",
    "print(\"Specific element\", arr[1][2])\n",
    "print(\"Entire Row\", arr[1])\n",
    "print(\"Entire Column\", arr[:,1])\n"
   ]
  },
  {
   "cell_type": "code",
   "execution_count": 17,
   "id": "54c05b9b",
   "metadata": {},
   "outputs": [
    {
     "name": "stdout",
     "output_type": "stream",
     "text": [
      "Sorted array -->  [  2   3   3   4   4  23  23  34  42  45  45  54  54 232 323]\n",
      "Sorted array by COLUMN -->  [[2 3]\n",
      " [3 4]\n",
      " [6 7]]\n",
      "Sorted array by Row -->  [[2 3]\n",
      " [3 4]\n",
      " [6 7]]\n"
     ]
    }
   ],
   "source": [
    "unsorted = np.array([3,4,34,42,3,232,54,45,45,4,54,323,23,23,2])\n",
    "print(\"Sorted array --> \", np.sort(unsorted))\n",
    "\n",
    "arr_2D_unsorted = np.array([[2,3],[3,4],[6,7]])\n",
    "print(\"Sorted array by COLUMN --> \", np.sort(arr_2D_unsorted, axis=0))\n",
    "print(\"Sorted array by Row --> \", np.sort(arr_2D_unsorted, axis=1))\n"
   ]
  },
  {
   "cell_type": "markdown",
   "id": "93f3a122",
   "metadata": {},
   "source": [
    "## filtering "
   ]
  },
  {
   "cell_type": "code",
   "execution_count": null,
   "id": "24dd9ec2",
   "metadata": {},
   "outputs": [
    {
     "name": "stdout",
     "output_type": "stream",
     "text": [
      "even shits are here ---> [ 2  4  6  8 10]\n",
      "Numbers greater than 5 are [ 6  7  8  9 10 11]\n",
      "NP Where --->  [ 6  7  8  9 10 11]\n",
      "Results --->  [1 3 5]\n",
      "Condition array, modifying the actual array [ 1  2  3  4  5 24 28 32 36 40 44]\n"
     ]
    }
   ],
   "source": [
    "numbers = np.array([1,2,3,4,5,6,7,8,9,10,11])\n",
    "even_nums = numbers[numbers%2==0] # NEW GOOD SHIT THIS IS\n",
    "print(\"even shits are here --->\", even_nums)\n",
    "\n",
    "# FILTER WITH MASKKKKKK\n",
    "mask = numbers>5\n",
    "print(\"Numbers greater than 5 are\", numbers[mask])\n",
    "\n",
    "#INDEXING\n",
    "where_result = np.where(numbers>5)\n",
    "print(\"NP Where ---> \", numbers[where_result])\n",
    "\n",
    "\n",
    "indices = [0,2,4]\n",
    "print(\"Results ---> \",numbers[indices] )\n",
    "\n",
    "condition_array = np.where(numbers>5, numbers*4, numbers)\n",
    "print(\"Condition array, modifying the actual array\", condition_array)\n",
    "\n",
    "# works like if(condition) return numbers*4 else return numbers\n",
    "\n"
   ]
  },
  {
   "cell_type": "markdown",
   "id": "0a107745",
   "metadata": {},
   "source": [
    "## adding and removing data"
   ]
  },
  {
   "cell_type": "code",
   "execution_count": 25,
   "id": "9010318d",
   "metadata": {},
   "outputs": [
    {
     "name": "stdout",
     "output_type": "stream",
     "text": [
      "Compataility ?  False\n",
      "[ 1  2  3  4  5  6  7  8  9 10 11  0  1  2  3  4  5  6  7  8  9 10 11]\n"
     ]
    }
   ],
   "source": [
    "# combined shouldnt be like arr1+arr2\n",
    "combined = np.concatenate((numbers, arrayyy))\n",
    "\n",
    "print(\"Compataility ? \", numbers.shape == arrayyy.shape)\n",
    "print(combined)\n"
   ]
  },
  {
   "cell_type": "code",
   "execution_count": null,
   "id": "7c14b44f",
   "metadata": {},
   "outputs": [
    {
     "name": "stdout",
     "output_type": "stream",
     "text": [
      "here we have matrices with one extra row added to it \n",
      " [[1 2]\n",
      " [3 4]\n",
      " [5 6]\n",
      " [7 8]\n",
      " [6 9]]\n"
     ]
    }
   ],
   "source": [
    "original = np.array([[1,2],[3,4],\n",
    "                     [5,6],[7,8]])\n",
    "\n",
    "new_row = np.array([6,9])\n",
    "\n",
    "with_new_row = np.vstack((original, new_row)) #use hstack for adding new column\n",
    "print(\"here we have matrices with one extra row added to it \\n\", with_new_row)\n",
    "\n",
    "\n",
    "# deleted = np.delete(arr, index)\n",
    "\n",
    "\n"
   ]
  },
  {
   "cell_type": "code",
   "execution_count": null,
   "id": "8c345964",
   "metadata": {},
   "outputs": [],
   "source": [
    "import matplotlib.pyplot as plt\n"
   ]
  },
  {
   "cell_type": "code",
   "execution_count": null,
   "id": "cdae240a",
   "metadata": {},
   "outputs": [
    {
     "name": "stdout",
     "output_type": "stream",
     "text": [
      "\n",
      " -------------------------Sales Data Analysis-------------------------\n",
      "shape of the data:  (5, 5)\n",
      "First 3 rows of the sales data:\n",
      " [[     1 150000 180000 220000 250000]\n",
      " [     2 120000 140000 160000 190000]\n",
      " [     3 200000 230000 260000 300000]]\n",
      "First 3 column of the sales:\n",
      " [[     1 150000 180000]\n",
      " [     2 120000 140000]\n",
      " [     3 200000 230000]\n",
      " [     4 180000 210000]\n",
      " [     5 160000 185000]]\n",
      "\n",
      " ------------------------TOTAL SALES PER YEAR--------------------------\n",
      "\n",
      "the sum that comes here is sale in column wise\n",
      "yearly sales of all----->  [ 810000  945000 1085000 1240000]\n",
      "\n",
      " ------------------------MINIMUM SALES PER YEAR--------------------------\n",
      "\n",
      "this gives min sales resturant wise \n",
      "minimum sales ---------> [150000 120000 200000 180000 160000]\n",
      "\n",
      "--------------------------------------------------------------------------\n",
      "MAX SALES PER YEAR THAT IS DO AXIS=0 i.e, COLUMN WISE\n",
      "--------------------------------------------------------------------------\n",
      "\n",
      "Cummulative sum is ---------------> [[150000 330000 550000 800000]\n",
      " [120000 260000 420000 610000]\n",
      " [200000 430000 690000 990000]\n",
      " [180000 390000 630000 900000]\n",
      " [160000 345000 550000 780000]]\n"
     ]
    }
   ],
   "source": [
    "# Data structure: [restaurant_id, 2021, 2022, 2023, 2024]\n",
    "sales_data = np.array([\n",
    "    [1, 150000, 180000, 220000, 250000],  # Paradise Biryani\n",
    "    [2, 120000, 140000, 160000, 190000],  # Beijing Bites\n",
    "    [3, 200000, 230000, 260000, 300000],  # Pizza Hub\n",
    "    [4, 180000, 210000, 240000, 270000],  # Burger Point\n",
    "    [5, 160000, 185000, 205000, 230000]   # Chai Point\n",
    "])\n",
    "\n",
    "print(\"\\n -------------------------Sales Data Analysis-------------------------\")\n",
    "\n",
    "print(\"shape of the data: \", sales_data.shape)\n",
    "print(\"First 3 rows of the sales data:\\n\",sales_data[0:3])\n",
    "print(\"First 3 column of the sales:\\n\",sales_data[0:, :3])\n",
    "\n",
    "print(\"\\n ------------------------TOTAL SALES PER YEAR--------------------------\")\n",
    "\n",
    "yearly_total = np.sum(sales_data[:, 1:], axis=0)\n",
    "print(\"\\nthe sum that comes here is sale in column wise\\nyearly sales of all-----> \", yearly_total)\n",
    "\n",
    "print(\"\\n ------------------------MINIMUM SALES PER YEAR--------------------------\")\n",
    "min_sales = np.min(sales_data[:, 1:], axis=1)\n",
    "print(\"\\nthis gives min sales resturant wise \\nminimum sales --------->\", min_sales)\n",
    "\n",
    "print(\"\\n--------------------------------------------------------------------------\")\n",
    "print(\"MAX SALES PER YEAR THAT IS DO AXIS=0 i.e, COLUMN WISE\")\n",
    "print(\"--------------------------------------------------------------------------\\n\")\n",
    "\n",
    "\n",
    "cumsum = np.cumsum(sales_data[:,1:], axis=1)\n",
    "print(\"Cummulative sum is --------------->\\n\",cumsum)\n",
    "\n",
    "\n"
   ]
  }
 ],
 "metadata": {
  "kernelspec": {
   "display_name": "venv",
   "language": "python",
   "name": "python3"
  },
  "language_info": {
   "codemirror_mode": {
    "name": "ipython",
    "version": 3
   },
   "file_extension": ".py",
   "mimetype": "text/x-python",
   "name": "python",
   "nbconvert_exporter": "python",
   "pygments_lexer": "ipython3",
   "version": "3.12.2"
  }
 },
 "nbformat": 4,
 "nbformat_minor": 5
}
